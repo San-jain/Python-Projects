{
 "cells": [
  {
   "cell_type": "code",
   "execution_count": 1,
   "metadata": {},
   "outputs": [
    {
     "name": "stdout",
     "output_type": "stream",
     "text": [
      "Note: you may need to restart the kernel to use updated packages.Defaulting to user installation because normal site-packages is not writeable\n",
      "Collecting pyscreenshot\n",
      "  Downloading pyscreenshot-3.1-py3-none-any.whl.metadata (1.4 kB)\n",
      "Collecting EasyProcess (from pyscreenshot)\n",
      "  Downloading EasyProcess-1.1-py3-none-any.whl.metadata (855 bytes)\n",
      "Collecting entrypoint2 (from pyscreenshot)\n",
      "  Downloading entrypoint2-1.1-py2.py3-none-any.whl.metadata (1.0 kB)\n",
      "Collecting mss (from pyscreenshot)\n",
      "  Downloading mss-9.0.1-py3-none-any.whl.metadata (3.9 kB)\n",
      "Downloading pyscreenshot-3.1-py3-none-any.whl (28 kB)\n",
      "Downloading EasyProcess-1.1-py3-none-any.whl (8.7 kB)\n",
      "Downloading entrypoint2-1.1-py2.py3-none-any.whl (9.9 kB)\n",
      "Downloading mss-9.0.1-py3-none-any.whl (22 kB)\n",
      "Installing collected packages: entrypoint2, EasyProcess, mss, pyscreenshot\n",
      "Successfully installed EasyProcess-1.1 entrypoint2-1.1 mss-9.0.1 pyscreenshot-3.1\n",
      "\n"
     ]
    },
    {
     "name": "stderr",
     "output_type": "stream",
     "text": [
      "\n",
      "[notice] A new release of pip is available: 23.3.1 -> 24.0\n",
      "[notice] To update, run: python.exe -m pip install --upgrade pip\n"
     ]
    }
   ],
   "source": [
    "pip install pyscreenshot"
   ]
  },
  {
   "cell_type": "code",
   "execution_count": 3,
   "metadata": {},
   "outputs": [],
   "source": [
    "import pyscreenshot\n",
    "image = pyscreenshot.grab()\n",
    "image.show()\n",
    "image.save(\"ScreenFirst.png\")"
   ]
  },
  {
   "cell_type": "code",
   "execution_count": null,
   "metadata": {},
   "outputs": [],
   "source": []
  }
 ],
 "metadata": {
  "kernelspec": {
   "display_name": "Python 3",
   "language": "python",
   "name": "python3"
  },
  "language_info": {
   "codemirror_mode": {
    "name": "ipython",
    "version": 3
   },
   "file_extension": ".py",
   "mimetype": "text/x-python",
   "name": "python",
   "nbconvert_exporter": "python",
   "pygments_lexer": "ipython3",
   "version": "3.10.10"
  }
 },
 "nbformat": 4,
 "nbformat_minor": 2
}

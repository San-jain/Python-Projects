{
 "cells": [
  {
   "cell_type": "code",
   "execution_count": 1,
   "metadata": {},
   "outputs": [
    {
     "name": "stdout",
     "output_type": "stream",
     "text": [
      "These files are identical\n"
     ]
    }
   ],
   "source": [
    "import hashlib \n",
    "from difflib import SequenceMatcher \n",
    "\n",
    "\n",
    "def hash_file(fileName1, fileName2): \n",
    "\n",
    "\t# Use hashlib to store the hash of a file \n",
    "\th1 = hashlib.sha1() \n",
    "\th2 = hashlib.sha1() \n",
    "\n",
    "\twith open(fileName1, \"rb\") as file: \n",
    "\n",
    "\t\t# Use file.read() to read the size of file \n",
    "\t\t# and read the file in small chunks \n",
    "\t\t# because we cannot read the large files. \n",
    "\t\tchunk = 0\n",
    "\t\twhile chunk != b'': \n",
    "\t\t\tchunk = file.read(1024) \n",
    "\t\t\th1.update(chunk) \n",
    "\t\t\t\n",
    "\twith open(fileName2, \"rb\") as file: \n",
    "\n",
    "\t\t# Use file.read() to read the size of file a \n",
    "\t\t# and read the file in small chunks \n",
    "\t\t# because we cannot read the large files. \n",
    "\t\tchunk = 0\n",
    "\t\twhile chunk != b'': \n",
    "\t\t\tchunk = file.read(1024) \n",
    "\t\t\th2.update(chunk) \n",
    "\n",
    "\t\t# hexdigest() is of 160 bits \n",
    "\t\treturn h1.hexdigest(), h2.hexdigest() \n",
    "\n",
    "\n",
    "msg1, msg2 = hash_file(\"Data Observability API.docx.pdf \", \"Data Observability API.docx.pdf\") \n",
    "\n",
    "if(msg1 != msg2): \n",
    "\tprint(\"These files are not identical\") \n",
    "else: \n",
    "\tprint(\"These files are identical\") \n"
   ]
  }
 ],
 "metadata": {
  "kernelspec": {
   "display_name": "Python 3",
   "language": "python",
   "name": "python3"
  },
  "language_info": {
   "codemirror_mode": {
    "name": "ipython",
    "version": 3
   },
   "file_extension": ".py",
   "mimetype": "text/x-python",
   "name": "python",
   "nbconvert_exporter": "python",
   "pygments_lexer": "ipython3",
   "version": "3.10.10"
  }
 },
 "nbformat": 4,
 "nbformat_minor": 2
}

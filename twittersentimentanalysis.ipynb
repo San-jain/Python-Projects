{
 "cells": [
  {
   "cell_type": "code",
   "execution_count": 1,
   "metadata": {},
   "outputs": [
    {
     "name": "stdout",
     "output_type": "stream",
     "text": [
      "Defaulting to user installation because normal site-packages is not writeable\n",
      "Collecting tweepy\n",
      "  Downloading tweepy-4.14.0-py3-none-any.whl.metadata (3.8 kB)\n",
      "Requirement already satisfied: oauthlib<4,>=3.2.0 in c:\\users\\sankalp.jain\\appdata\\roaming\\python\\python310\\site-packages (from tweepy) (3.2.2)\n",
      "Requirement already satisfied: requests<3,>=2.27.0 in c:\\users\\sankalp.jain\\appdata\\roaming\\python\\python310\\site-packages (from tweepy) (2.31.0)\n",
      "Requirement already satisfied: requests-oauthlib<2,>=1.2.0 in c:\\users\\sankalp.jain\\appdata\\roaming\\python\\python310\\site-packages (from tweepy) (1.3.1)\n",
      "Requirement already satisfied: charset-normalizer<4,>=2 in c:\\users\\sankalp.jain\\appdata\\roaming\\python\\python310\\site-packages (from requests<3,>=2.27.0->tweepy) (3.1.0)\n",
      "Requirement already satisfied: idna<4,>=2.5 in c:\\users\\sankalp.jain\\appdata\\roaming\\python\\python310\\site-packages (from requests<3,>=2.27.0->tweepy) (3.4)\n",
      "Requirement already satisfied: urllib3<3,>=1.21.1 in c:\\users\\sankalp.jain\\appdata\\roaming\\python\\python310\\site-packages (from requests<3,>=2.27.0->tweepy) (1.26.16)\n",
      "Requirement already satisfied: certifi>=2017.4.17 in c:\\users\\sankalp.jain\\appdata\\roaming\\python\\python310\\site-packages (from requests<3,>=2.27.0->tweepy) (2023.5.7)\n",
      "Downloading tweepy-4.14.0-py3-none-any.whl (98 kB)\n",
      "   ---------------------------------------- 0.0/98.5 kB ? eta -:--:--\n",
      "   ------------ --------------------------- 30.7/98.5 kB 1.3 MB/s eta 0:00:01\n",
      "   ----------------------------- ---------- 71.7/98.5 kB 1.3 MB/s eta 0:00:01\n",
      "   ----------------------------- ---------- 71.7/98.5 kB 1.3 MB/s eta 0:00:01\n",
      "   ----------------------------- ---------- 71.7/98.5 kB 1.3 MB/s eta 0:00:01\n",
      "   ----------------------------- ---------- 71.7/98.5 kB 1.3 MB/s eta 0:00:01\n",
      "   ----------------------------- ---------- 71.7/98.5 kB 1.3 MB/s eta 0:00:01\n",
      "   ----------------------------- ---------- 71.7/98.5 kB 1.3 MB/s eta 0:00:01\n",
      "   ----------------------------- ---------- 71.7/98.5 kB 1.3 MB/s eta 0:00:01\n",
      "   ----------------------------- ---------- 71.7/98.5 kB 1.3 MB/s eta 0:00:01\n",
      "   ------------------------------------- -- 92.2/98.5 kB 187.0 kB/s eta 0:00:01\n",
      "   ------------------------------------- -- 92.2/98.5 kB 187.0 kB/s eta 0:00:01\n",
      "   ------------------------------------- -- 92.2/98.5 kB 187.0 kB/s eta 0:00:01\n",
      "   ------------------------------------- -- 92.2/98.5 kB 187.0 kB/s eta 0:00:01\n",
      "   ------------------------------------- -- 92.2/98.5 kB 187.0 kB/s eta 0:00:01\n",
      "   ------------------------------------- -- 92.2/98.5 kB 187.0 kB/s eta 0:00:01\n",
      "   ---------------------------------------- 98.5/98.5 kB 122.8 kB/s eta 0:00:00\n",
      "Installing collected packages: tweepy\n",
      "Successfully installed tweepy-4.14.0\n",
      "Note: you may need to restart the kernel to use updated packages.\n"
     ]
    },
    {
     "name": "stderr",
     "output_type": "stream",
     "text": [
      "\n",
      "[notice] A new release of pip is available: 23.3.1 -> 24.0\n",
      "[notice] To update, run: python.exe -m pip install --upgrade pip\n"
     ]
    }
   ],
   "source": [
    "# pip install tweepy"
   ]
  },
  {
   "cell_type": "code",
   "execution_count": 8,
   "metadata": {},
   "outputs": [],
   "source": [
    "# pip install textblob"
   ]
  },
  {
   "cell_type": "code",
   "execution_count": 9,
   "metadata": {},
   "outputs": [],
   "source": [
    "# python -m textblob.download_corpora"
   ]
  },
  {
   "cell_type": "code",
   "execution_count": 7,
   "metadata": {},
   "outputs": [
    {
     "name": "stdout",
     "output_type": "stream",
     "text": [
      "Error : 403 Forbidden\n",
      "453 - You currently have access to a subset of Twitter API v2 endpoints and limited v1.1 endpoints (e.g. media post, oauth) only. If you need access to this endpoint, you may need a different access level. You can learn more here: https://developer.twitter.com/en/portal/product\n"
     ]
    },
    {
     "ename": "TypeError",
     "evalue": "'NoneType' object is not iterable",
     "output_type": "error",
     "traceback": [
      "\u001b[1;31m---------------------------------------------------------------------------\u001b[0m",
      "\u001b[1;31mTypeError\u001b[0m                                 Traceback (most recent call last)",
      "Cell \u001b[1;32mIn[7], line 119\u001b[0m\n\u001b[0;32m    115\u001b[0m \t\t\u001b[38;5;28mprint\u001b[39m(tweet[\u001b[38;5;124m'\u001b[39m\u001b[38;5;124mtext\u001b[39m\u001b[38;5;124m'\u001b[39m])\n\u001b[0;32m    117\u001b[0m \u001b[38;5;28;01mif\u001b[39;00m \u001b[38;5;18m__name__\u001b[39m \u001b[38;5;241m==\u001b[39m \u001b[38;5;124m\"\u001b[39m\u001b[38;5;124m__main__\u001b[39m\u001b[38;5;124m\"\u001b[39m:\n\u001b[0;32m    118\u001b[0m \t\u001b[38;5;66;03m# calling main function\u001b[39;00m\n\u001b[1;32m--> 119\u001b[0m \t\u001b[43mmain\u001b[49m\u001b[43m(\u001b[49m\u001b[43m)\u001b[49m\n",
      "Cell \u001b[1;32mIn[7], line 96\u001b[0m, in \u001b[0;36mmain\u001b[1;34m()\u001b[0m\n\u001b[0;32m     93\u001b[0m tweets \u001b[38;5;241m=\u001b[39m api\u001b[38;5;241m.\u001b[39mget_tweets(query \u001b[38;5;241m=\u001b[39m \u001b[38;5;124m'\u001b[39m\u001b[38;5;124mNarendra Modi\u001b[39m\u001b[38;5;124m'\u001b[39m, count \u001b[38;5;241m=\u001b[39m \u001b[38;5;241m10\u001b[39m)\n\u001b[0;32m     95\u001b[0m \u001b[38;5;66;03m# picking positive tweets from tweets\u001b[39;00m\n\u001b[1;32m---> 96\u001b[0m ptweets \u001b[38;5;241m=\u001b[39m [tweet \u001b[38;5;28;01mfor\u001b[39;00m tweet \u001b[38;5;129;01min\u001b[39;00m tweets \u001b[38;5;28;01mif\u001b[39;00m tweet[\u001b[38;5;124m'\u001b[39m\u001b[38;5;124msentiment\u001b[39m\u001b[38;5;124m'\u001b[39m] \u001b[38;5;241m==\u001b[39m \u001b[38;5;124m'\u001b[39m\u001b[38;5;124mpositive\u001b[39m\u001b[38;5;124m'\u001b[39m]\n\u001b[0;32m     97\u001b[0m \u001b[38;5;66;03m# percentage of positive tweets\u001b[39;00m\n\u001b[0;32m     98\u001b[0m \u001b[38;5;28mprint\u001b[39m(\u001b[38;5;124m\"\u001b[39m\u001b[38;5;124mPositive tweets percentage: \u001b[39m\u001b[38;5;132;01m{}\u001b[39;00m\u001b[38;5;124m \u001b[39m\u001b[38;5;124m%\u001b[39m\u001b[38;5;124m\"\u001b[39m\u001b[38;5;241m.\u001b[39mformat(\u001b[38;5;241m100\u001b[39m\u001b[38;5;241m*\u001b[39m\u001b[38;5;28mlen\u001b[39m(ptweets)\u001b[38;5;241m/\u001b[39m\u001b[38;5;28mlen\u001b[39m(tweets)))\n",
      "\u001b[1;31mTypeError\u001b[0m: 'NoneType' object is not iterable"
     ]
    }
   ],
   "source": [
    "import re\n",
    "import tweepy\n",
    "from tweepy import OAuthHandler\n",
    "from textblob import TextBlob\n",
    "\n",
    "class TwitterClient(object):\n",
    "\t'''\n",
    "\tGeneric Twitter Class for sentiment analysis.\n",
    "\t'''\n",
    "\tdef __init__(self):\n",
    "\t\t'''\n",
    "\t\tClass constructor or initialization method.\n",
    "\t\t'''\n",
    "\t\t# keys and tokens from the Twitter Dev Console\n",
    "\t\tconsumer_key = ''\n",
    "\t\tconsumer_secret = ''\n",
    "\t\taccess_token = ''\n",
    "\t\taccess_token_secret = ''\n",
    "\n",
    "\t\t# attempt authentication\n",
    "\t\ttry:\n",
    "\t\t\t# create OAuthHandler object\n",
    "\t\t\tself.auth = OAuthHandler(consumer_key, consumer_secret)\n",
    "\t\t\t# set access token and secret\n",
    "\t\t\tself.auth.set_access_token(access_token, access_token_secret)\n",
    "\t\t\t# create tweepy API object to fetch tweets\n",
    "\t\t\tself.api = tweepy.API(self.auth)\n",
    "\t\texcept:\n",
    "\t\t\tprint(\"Error: Authentication Failed\")\n",
    "\n",
    "\tdef clean_tweet(self, tweet):\n",
    "\t\t'''\n",
    "\t\tUtility function to clean tweet text by removing links, special characters\n",
    "\t\tusing simple regex statements.\n",
    "\t\t'''\n",
    "\t\treturn ' '.join(re.sub(\"(@[A-Za-z0-9]+)|([^0-9A-Za-z \\t]) | (\\w+:\\/\\/\\S+)\", \" \", tweet).split())\n",
    "\n",
    "\tdef get_tweet_sentiment(self, tweet):\n",
    "\t\t'''\n",
    "\t\tUtility function to classify sentiment of passed tweet\n",
    "\t\tusing textblob's sentiment method\n",
    "\t\t'''\n",
    "\t\t# create TextBlob object of passed tweet text\n",
    "\t\tanalysis = TextBlob(self.clean_tweet(tweet))\n",
    "\t\t# set sentiment\n",
    "\t\tif analysis.sentiment.polarity > 0:\n",
    "\t\t\treturn 'positive'\n",
    "\t\telif analysis.sentiment.polarity == 0:\n",
    "\t\t\treturn 'neutral'\n",
    "\t\telse:\n",
    "\t\t\treturn 'negative'\n",
    "\n",
    "\tdef get_tweets(self, query, count = 10):\n",
    "\t\t'''\n",
    "\t\tMain function to fetch tweets and parse them.\n",
    "\t\t'''\n",
    "\t\t# empty list to store parsed tweets\n",
    "\t\ttweets = []\n",
    "\n",
    "\t\ttry:\n",
    "\t\t\t# call twitter api to fetch tweets\n",
    "\t\t\tfetched_tweets = self.api.search_tweets(q = query, count = count)\n",
    "\n",
    "\t\t\t# parsing tweets one by one\n",
    "\t\t\tfor tweet in fetched_tweets:\n",
    "\t\t\t\t# empty dictionary to store required params of a tweet\n",
    "\t\t\t\tparsed_tweet = {}\n",
    "\n",
    "\t\t\t\t# saving text of tweet\n",
    "\t\t\t\tparsed_tweet['text'] = tweet.text\n",
    "\t\t\t\t# saving sentiment of tweet\n",
    "\t\t\t\tparsed_tweet['sentiment'] = self.get_tweet_sentiment(tweet.text)\n",
    "\n",
    "\t\t\t\t# appending parsed tweet to tweets list\n",
    "\t\t\t\tif tweet.retweet_count > 0:\n",
    "\t\t\t\t\t# if tweet has retweets, ensure that it is appended only once\n",
    "\t\t\t\t\tif parsed_tweet not in tweets:\n",
    "\t\t\t\t\t\ttweets.append(parsed_tweet)\n",
    "\t\t\t\telse:\n",
    "\t\t\t\t\ttweets.append(parsed_tweet)\n",
    "\n",
    "\t\t\t# return parsed tweets\n",
    "\t\t\treturn tweets\n",
    "\n",
    "\t\texcept Exception as e:\n",
    "\t\t\t# print error (if any)\n",
    "\t\t\tprint(\"Error : \" + str(e))\n",
    "\n",
    "def main():\n",
    "\t# creating object of TwitterClient Class\n",
    "\tapi = TwitterClient()\n",
    "\t# calling function to get tweets\n",
    "\ttweets = api.get_tweets(query = 'Narendra Modi', count = 10)\n",
    "\n",
    "\t# picking positive tweets from tweets\n",
    "\tptweets = [tweet for tweet in tweets if tweet['sentiment'] == 'positive']\n",
    "\t# percentage of positive tweets\n",
    "\tprint(\"Positive tweets percentage: {} %\".format(100*len(ptweets)/len(tweets)))\n",
    "\t# picking negative tweets from tweets\n",
    "\tntweets = [tweet for tweet in tweets if tweet['sentiment'] == 'negative']\n",
    "\t# percentage of negative tweets\n",
    "\tprint(\"Negative tweets percentage: {} %\".format(100*len(ntweets)/len(tweets)))\n",
    "\t# percentage of neutral tweets\n",
    "\tprint(\"Neutral tweets percentage: {} % \\\n",
    "\t\t\".format(100*(len(tweets) -(len( ntweets )+len( ptweets)))/len(tweets)))\n",
    "\n",
    "\t# printing first 5 positive tweets\n",
    "\tprint(\"\\n\\nPositive tweets:\")\n",
    "\tfor tweet in ptweets[:10]:\n",
    "\t\tprint(tweet['text'])\n",
    "\n",
    "\t# printing first 5 negative tweets\n",
    "\tprint(\"\\n\\nNegative tweets:\")\n",
    "\tfor tweet in ntweets[:10]:\n",
    "\t\tprint(tweet['text'])\n",
    "\n",
    "if __name__ == \"__main__\":\n",
    "\t# calling main function\n",
    "\tmain()"
   ]
  },
  {
   "cell_type": "code",
   "execution_count": null,
   "metadata": {},
   "outputs": [],
   "source": []
  }
 ],
 "metadata": {
  "kernelspec": {
   "display_name": "Python 3",
   "language": "python",
   "name": "python3"
  },
  "language_info": {
   "codemirror_mode": {
    "name": "ipython",
    "version": 3
   },
   "file_extension": ".py",
   "mimetype": "text/x-python",
   "name": "python",
   "nbconvert_exporter": "python",
   "pygments_lexer": "ipython3",
   "version": "3.10.10"
  }
 },
 "nbformat": 4,
 "nbformat_minor": 2
}
